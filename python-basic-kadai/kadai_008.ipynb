{
  "cells": [
    {
      "cell_type": "code",
      "source": [
        "def fizzbuzz(var: int):\n",
        "  if var%15 == 0:\n",
        "    print(\"fizzbuzz\")\n",
        "  elif var%3 == 0:\n",
        "    print(\"fizz\")\n",
        "  elif var%5 == 0:\n",
        "    print(\"buzz\")\n",
        "  else:\n",
        "    print(f\"{var}\")\n",
        "fizzbuzz(9)\n",
        "fizzbuzz(10)\n",
        "fizzbuzz(15)\n",
        "fizzbuzz(2)"
      ],
      "metadata": {
        "colab": {
          "base_uri": "https://localhost:8080/"
        },
        "id": "bYew4dcEjuDe",
        "outputId": "daf54573-0e6d-463b-ddcd-c766af56254c"
      },
      "execution_count": null,
      "outputs": [
        {
          "output_type": "stream",
          "name": "stdout",
          "text": [
            "fizz\n",
            "buzz\n",
            "fizzbuzz\n",
            "2\n"
          ]
        }
      ]
    }
  ],
  "metadata": {
    "colab": {
      "provenance": [],
      "collapsed_sections": [
        "GJBs_flRovLc",
        "UdRyKR44dcNI"
      ]
    },
    "kernelspec": {
      "display_name": "Python 3",
      "name": "python3"
    }
  },
  "nbformat": 4,
  "nbformat_minor": 0
}

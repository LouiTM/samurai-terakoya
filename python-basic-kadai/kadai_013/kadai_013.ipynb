{
  "cells": [
    {
      "cell_type": "code",
      "source": [
        "def tax_value(price: float, tax_percent: float) -> float:\n",
        "  return price*tax_percent/100\n",
        "\n",
        "tax1 = tax_value(110, 10)\n",
        "print(f\"110円の商品の消費税(10%)は{tax1}円です\")"
      ],
      "metadata": {
        "colab": {
          "base_uri": "https://localhost:8080/"
        },
        "id": "E83jrVkZm4Z4",
        "outputId": "3637a19c-4227-442a-afe5-9845fdead8ba"
      },
      "execution_count": 4,
      "outputs": [
        {
          "output_type": "stream",
          "name": "stdout",
          "text": [
            "110円の商品の消費税(10%)は11.0円です\n"
          ]
        }
      ]
    }
  ],
  "metadata": {
    "colab": {
      "provenance": []
    },
    "kernelspec": {
      "display_name": "Python 3",
      "name": "python3"
    }
  },
  "nbformat": 4,
  "nbformat_minor": 0
}
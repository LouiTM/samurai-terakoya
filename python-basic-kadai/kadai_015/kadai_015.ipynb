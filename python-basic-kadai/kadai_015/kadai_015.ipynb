{
  "nbformat": 4,
  "nbformat_minor": 0,
  "metadata": {
    "colab": {
      "provenance": []
    },
    "kernelspec": {
      "name": "python3",
      "display_name": "Python 3"
    },
    "language_info": {
      "name": "python"
    }
  },
  "cells": [
    {
      "cell_type": "code",
      "execution_count": 1,
      "metadata": {
        "colab": {
          "base_uri": "https://localhost:8080/"
        },
        "id": "2UVfM_s0Gp9t",
        "outputId": "3fc0a31e-90b2-4859-aea9-098fc374ff88"
      },
      "outputs": [
        {
          "output_type": "stream",
          "name": "stdout",
          "text": [
            "私の名前は田中、20才です。\n"
          ]
        }
      ],
      "source": [
        "class Human:\n",
        "\n",
        "  def __init__ (self, name, age):\n",
        "    self.name = name\n",
        "    self.age = age\n",
        "\n",
        "  def printinfo(self):\n",
        "    print(f\"私の名前は{self.name}、{self.age}才です。\")\n",
        "\n",
        "person1 = Human(\"田中\",20)\n",
        "person1.printinfo()"
      ]
    }
  ]
}
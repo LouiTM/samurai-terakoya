{
  "nbformat": 4,
  "nbformat_minor": 0,
  "metadata": {
    "colab": {
      "provenance": []
    },
    "kernelspec": {
      "name": "python3",
      "display_name": "Python 3"
    },
    "language_info": {
      "name": "python"
    }
  },
  "cells": [
    {
      "cell_type": "code",
      "execution_count": 2,
      "metadata": {
        "colab": {
          "base_uri": "https://localhost:8080/"
        },
        "id": "2UVfM_s0Gp9t",
        "outputId": "ea72663a-a03b-4b7d-8f04-3b90d4ad406b"
      },
      "outputs": [
        {
          "output_type": "stream",
          "name": "stdout",
          "text": [
            "私の名前は田中で年は20才です。\n"
          ]
        }
      ],
      "source": [
        "class Human:\n",
        "  def __init__ (self, name, age):\n",
        "    self.name = name\n",
        "    self.age = age\n",
        "\n",
        "  def show_name_and_age(self):\n",
        "    print(f\"私の名前は{self.name}で年は{self.age}才です。\")\n",
        "\n",
        "person1 = Human(\"田中\",20)\n",
        "person1.show_name_and_age()"
      ]
    }
  ]
}
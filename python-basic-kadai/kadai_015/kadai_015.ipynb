{
  "nbformat": 4,
  "nbformat_minor": 0,
  "metadata": {
    "colab": {
      "provenance": []
    },
    "kernelspec": {
      "name": "python3",
      "display_name": "Python 3"
    },
    "language_info": {
      "name": "python"
    }
  },
  "cells": [
    {
      "cell_type": "code",
      "execution_count": 1,
      "metadata": {
        "colab": {
          "base_uri": "https://localhost:8080/"
        },
        "id": "2UVfM_s0Gp9t",
        "outputId": "aa6f5c01-b4dd-4156-fe65-fd6a6e3caec8"
      },
      "outputs": [
        {
          "output_type": "stream",
          "name": "stdout",
          "text": [
            "私の名前は田中です。\n",
            "私の年は20才です。\n"
          ]
        }
      ],
      "source": [
        "class Human:\n",
        "  def __init__ (self, name, age):\n",
        "    self.name = name\n",
        "    self.age = age\n",
        "\n",
        "  def print_name(self):\n",
        "    print(f\"私の名前は{self.name}です。\")\n",
        "\n",
        "  def print_age(self):\n",
        "    print(f\"私の年は{self.age}才です。\")\n",
        "\n",
        "person1 = Human(\"田中\",20)\n",
        "person1.print_name()\n",
        "person1.print_age()\n"
      ]
    }
  ]
}
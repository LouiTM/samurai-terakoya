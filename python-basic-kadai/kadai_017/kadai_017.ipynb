{
  "nbformat": 4,
  "nbformat_minor": 0,
  "metadata": {
    "colab": {
      "provenance": []
    },
    "kernelspec": {
      "name": "python3",
      "display_name": "Python 3"
    },
    "language_info": {
      "name": "python"
    }
  },
  "cells": [
    {
      "cell_type": "code",
      "execution_count": 4,
      "metadata": {
        "colab": {
          "base_uri": "https://localhost:8080/"
        },
        "id": "fFRVGWmvxPVx",
        "outputId": "417a8382-eacf-4012-92f8-0dcab82eae6d"
      },
      "outputs": [
        {
          "output_type": "stream",
          "name": "stdout",
          "text": [
            "私の名前は田中90才、大人です。\n",
            "私の名前は吉田20才、大人です。\n",
            "私の名前は松本5才、大人ではないです。\n",
            "私の名前は佐藤19才、大人ではないです。\n"
          ]
        }
      ],
      "source": [
        "class Human:\n",
        "\n",
        "  def __init__ (self, name, age):\n",
        "    self.name = name\n",
        "    self.age = age\n",
        "\n",
        "  def check_adult(self):\n",
        "    if self.age >= 20:\n",
        "      print(f\"私の名前は{self.name}{self.age}才、大人です。\")\n",
        "    else:\n",
        "      print(f\"私の名前は{self.name}{self.age}才、大人ではないです。\")\n",
        "\n",
        "person1 = Human(\"田中\",90)\n",
        "person2 = Human(\"吉田\",20)\n",
        "person3 = Human(\"松本\",5)\n",
        "person4 = Human(\"佐藤\",19)\n",
        "\n",
        "persons = [person1,person2,person3,person4]\n",
        "\n",
        "for i in persons:\n",
        "  i.check_adult()\n"
      ]
    }
  ]
}